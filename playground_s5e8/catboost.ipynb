{
 "cells": [
  {
   "cell_type": "code",
   "execution_count": 11,
   "id": "1821a676",
   "metadata": {},
   "outputs": [],
   "source": [
    "import pandas as pd\n",
    "import numpy as np\n",
    "from catboost import CatBoostClassifier\n",
    "from sklearn.metrics import roc_auc_score"
   ]
  },
  {
   "cell_type": "code",
   "execution_count": 4,
   "id": "10520048",
   "metadata": {},
   "outputs": [],
   "source": [
    "train = pd.read_csv('D:/ML/Kaggle/playground-series-s5e8/train.csv')\n",
    "test = pd.read_csv('D:/ML/Kaggle/playground-series-s5e8/test.csv')"
   ]
  },
  {
   "cell_type": "code",
   "execution_count": 5,
   "id": "862faa9a",
   "metadata": {},
   "outputs": [
    {
     "name": "stdout",
     "output_type": "stream",
     "text": [
      "<class 'pandas.core.frame.DataFrame'>\n",
      "RangeIndex: 750000 entries, 0 to 749999\n",
      "Data columns (total 18 columns):\n",
      " #   Column     Non-Null Count   Dtype \n",
      "---  ------     --------------   ----- \n",
      " 0   id         750000 non-null  int64 \n",
      " 1   age        750000 non-null  int64 \n",
      " 2   job        750000 non-null  object\n",
      " 3   marital    750000 non-null  object\n",
      " 4   education  750000 non-null  object\n",
      " 5   default    750000 non-null  object\n",
      " 6   balance    750000 non-null  int64 \n",
      " 7   housing    750000 non-null  object\n",
      " 8   loan       750000 non-null  object\n",
      " 9   contact    750000 non-null  object\n",
      " 10  day        750000 non-null  int64 \n",
      " 11  month      750000 non-null  object\n",
      " 12  duration   750000 non-null  int64 \n",
      " 13  campaign   750000 non-null  int64 \n",
      " 14  pdays      750000 non-null  int64 \n",
      " 15  previous   750000 non-null  int64 \n",
      " 16  poutcome   750000 non-null  object\n",
      " 17  y          750000 non-null  int64 \n",
      "dtypes: int64(9), object(9)\n",
      "memory usage: 103.0+ MB\n"
     ]
    }
   ],
   "source": [
    "train.info()"
   ]
  },
  {
   "cell_type": "code",
   "execution_count": 6,
   "id": "bfba7791",
   "metadata": {},
   "outputs": [],
   "source": [
    "numerical_features = ['age', 'balance', 'duration', 'campaign', 'pdays', 'previous']\n",
    "categorical_features = ['job', 'marital', 'education', 'default', 'housing', 'loan', 'contact', 'day', 'month', 'poutcome']\n",
    "target = 'y'"
   ]
  },
  {
   "cell_type": "code",
   "execution_count": 9,
   "id": "58d6d055",
   "metadata": {},
   "outputs": [
    {
     "name": "stderr",
     "output_type": "stream",
     "text": [
      "<positron-console-cell-9>:6: FutureWarning: A value is trying to be set on a copy of a DataFrame or Series through chained assignment using an inplace method.\n",
      "The behavior will change in pandas 3.0. This inplace method will never work because the intermediate object on which we are setting values always behaves as a copy.\n",
      "\n",
      "For example, when doing 'df[col].method(value, inplace=True)', try using 'df.method({col: value}, inplace=True)' or df[col] = df[col].method(value) instead, to perform the operation inplace on the original object.\n",
      "\n",
      "\n",
      "<positron-console-cell-9>:16: FutureWarning: A value is trying to be set on a copy of a DataFrame or Series through chained assignment using an inplace method.\n",
      "The behavior will change in pandas 3.0. This inplace method will never work because the intermediate object on which we are setting values always behaves as a copy.\n",
      "\n",
      "For example, when doing 'df[col].method(value, inplace=True)', try using 'df.method({col: value}, inplace=True)' or df[col] = df[col].method(value) instead, to perform the operation inplace on the original object.\n",
      "\n",
      "\n",
      "<positron-console-cell-9>:16: FutureWarning: A value is trying to be set on a copy of a DataFrame or Series through chained assignment using an inplace method.\n",
      "The behavior will change in pandas 3.0. This inplace method will never work because the intermediate object on which we are setting values always behaves as a copy.\n",
      "\n",
      "For example, when doing 'df[col].method(value, inplace=True)', try using 'df.method({col: value}, inplace=True)' or df[col] = df[col].method(value) instead, to perform the operation inplace on the original object.\n",
      "\n",
      "\n",
      "<positron-console-cell-9>:16: FutureWarning: A value is trying to be set on a copy of a DataFrame or Series through chained assignment using an inplace method.\n",
      "The behavior will change in pandas 3.0. This inplace method will never work because the intermediate object on which we are setting values always behaves as a copy.\n",
      "\n",
      "For example, when doing 'df[col].method(value, inplace=True)', try using 'df.method({col: value}, inplace=True)' or df[col] = df[col].method(value) instead, to perform the operation inplace on the original object.\n",
      "\n",
      "\n",
      "<positron-console-cell-9>:16: FutureWarning: A value is trying to be set on a copy of a DataFrame or Series through chained assignment using an inplace method.\n",
      "The behavior will change in pandas 3.0. This inplace method will never work because the intermediate object on which we are setting values always behaves as a copy.\n",
      "\n",
      "For example, when doing 'df[col].method(value, inplace=True)', try using 'df.method({col: value}, inplace=True)' or df[col] = df[col].method(value) instead, to perform the operation inplace on the original object.\n",
      "\n",
      "\n",
      "<positron-console-cell-9>:16: FutureWarning: A value is trying to be set on a copy of a DataFrame or Series through chained assignment using an inplace method.\n",
      "The behavior will change in pandas 3.0. This inplace method will never work because the intermediate object on which we are setting values always behaves as a copy.\n",
      "\n",
      "For example, when doing 'df[col].method(value, inplace=True)', try using 'df.method({col: value}, inplace=True)' or df[col] = df[col].method(value) instead, to perform the operation inplace on the original object.\n",
      "\n",
      "\n",
      "<positron-console-cell-9>:16: FutureWarning: A value is trying to be set on a copy of a DataFrame or Series through chained assignment using an inplace method.\n",
      "The behavior will change in pandas 3.0. This inplace method will never work because the intermediate object on which we are setting values always behaves as a copy.\n",
      "\n",
      "For example, when doing 'df[col].method(value, inplace=True)', try using 'df.method({col: value}, inplace=True)' or df[col] = df[col].method(value) instead, to perform the operation inplace on the original object.\n",
      "\n",
      "\n",
      "<positron-console-cell-9>:16: FutureWarning: A value is trying to be set on a copy of a DataFrame or Series through chained assignment using an inplace method.\n",
      "The behavior will change in pandas 3.0. This inplace method will never work because the intermediate object on which we are setting values always behaves as a copy.\n",
      "\n",
      "For example, when doing 'df[col].method(value, inplace=True)', try using 'df.method({col: value}, inplace=True)' or df[col] = df[col].method(value) instead, to perform the operation inplace on the original object.\n",
      "\n",
      "\n",
      "<positron-console-cell-9>:16: FutureWarning: A value is trying to be set on a copy of a DataFrame or Series through chained assignment using an inplace method.\n",
      "The behavior will change in pandas 3.0. This inplace method will never work because the intermediate object on which we are setting values always behaves as a copy.\n",
      "\n",
      "For example, when doing 'df[col].method(value, inplace=True)', try using 'df.method({col: value}, inplace=True)' or df[col] = df[col].method(value) instead, to perform the operation inplace on the original object.\n",
      "\n",
      "\n",
      "<positron-console-cell-9>:16: FutureWarning: A value is trying to be set on a copy of a DataFrame or Series through chained assignment using an inplace method.\n",
      "The behavior will change in pandas 3.0. This inplace method will never work because the intermediate object on which we are setting values always behaves as a copy.\n",
      "\n",
      "For example, when doing 'df[col].method(value, inplace=True)', try using 'df.method({col: value}, inplace=True)' or df[col] = df[col].method(value) instead, to perform the operation inplace on the original object.\n",
      "\n",
      "\n",
      "<positron-console-cell-9>:16: FutureWarning: A value is trying to be set on a copy of a DataFrame or Series through chained assignment using an inplace method.\n",
      "The behavior will change in pandas 3.0. This inplace method will never work because the intermediate object on which we are setting values always behaves as a copy.\n",
      "\n",
      "For example, when doing 'df[col].method(value, inplace=True)', try using 'df.method({col: value}, inplace=True)' or df[col] = df[col].method(value) instead, to perform the operation inplace on the original object.\n",
      "\n",
      "\n",
      "<positron-console-cell-9>:6: FutureWarning: A value is trying to be set on a copy of a DataFrame or Series through chained assignment using an inplace method.\n",
      "The behavior will change in pandas 3.0. This inplace method will never work because the intermediate object on which we are setting values always behaves as a copy.\n",
      "\n",
      "For example, when doing 'df[col].method(value, inplace=True)', try using 'df.method({col: value}, inplace=True)' or df[col] = df[col].method(value) instead, to perform the operation inplace on the original object.\n",
      "\n",
      "\n",
      "<positron-console-cell-9>:16: FutureWarning: A value is trying to be set on a copy of a DataFrame or Series through chained assignment using an inplace method.\n",
      "The behavior will change in pandas 3.0. This inplace method will never work because the intermediate object on which we are setting values always behaves as a copy.\n",
      "\n",
      "For example, when doing 'df[col].method(value, inplace=True)', try using 'df.method({col: value}, inplace=True)' or df[col] = df[col].method(value) instead, to perform the operation inplace on the original object.\n",
      "\n",
      "\n",
      "<positron-console-cell-9>:16: FutureWarning: A value is trying to be set on a copy of a DataFrame or Series through chained assignment using an inplace method.\n",
      "The behavior will change in pandas 3.0. This inplace method will never work because the intermediate object on which we are setting values always behaves as a copy.\n",
      "\n",
      "For example, when doing 'df[col].method(value, inplace=True)', try using 'df.method({col: value}, inplace=True)' or df[col] = df[col].method(value) instead, to perform the operation inplace on the original object.\n",
      "\n",
      "\n",
      "<positron-console-cell-9>:16: FutureWarning: A value is trying to be set on a copy of a DataFrame or Series through chained assignment using an inplace method.\n",
      "The behavior will change in pandas 3.0. This inplace method will never work because the intermediate object on which we are setting values always behaves as a copy.\n",
      "\n",
      "For example, when doing 'df[col].method(value, inplace=True)', try using 'df.method({col: value}, inplace=True)' or df[col] = df[col].method(value) instead, to perform the operation inplace on the original object.\n",
      "\n",
      "\n",
      "<positron-console-cell-9>:16: FutureWarning: A value is trying to be set on a copy of a DataFrame or Series through chained assignment using an inplace method.\n",
      "The behavior will change in pandas 3.0. This inplace method will never work because the intermediate object on which we are setting values always behaves as a copy.\n",
      "\n",
      "For example, when doing 'df[col].method(value, inplace=True)', try using 'df.method({col: value}, inplace=True)' or df[col] = df[col].method(value) instead, to perform the operation inplace on the original object.\n",
      "\n",
      "\n",
      "<positron-console-cell-9>:16: FutureWarning: A value is trying to be set on a copy of a DataFrame or Series through chained assignment using an inplace method.\n",
      "The behavior will change in pandas 3.0. This inplace method will never work because the intermediate object on which we are setting values always behaves as a copy.\n",
      "\n",
      "For example, when doing 'df[col].method(value, inplace=True)', try using 'df.method({col: value}, inplace=True)' or df[col] = df[col].method(value) instead, to perform the operation inplace on the original object.\n",
      "\n",
      "\n",
      "<positron-console-cell-9>:16: FutureWarning: A value is trying to be set on a copy of a DataFrame or Series through chained assignment using an inplace method.\n",
      "The behavior will change in pandas 3.0. This inplace method will never work because the intermediate object on which we are setting values always behaves as a copy.\n",
      "\n",
      "For example, when doing 'df[col].method(value, inplace=True)', try using 'df.method({col: value}, inplace=True)' or df[col] = df[col].method(value) instead, to perform the operation inplace on the original object.\n",
      "\n",
      "\n",
      "<positron-console-cell-9>:16: FutureWarning: A value is trying to be set on a copy of a DataFrame or Series through chained assignment using an inplace method.\n",
      "The behavior will change in pandas 3.0. This inplace method will never work because the intermediate object on which we are setting values always behaves as a copy.\n",
      "\n",
      "For example, when doing 'df[col].method(value, inplace=True)', try using 'df.method({col: value}, inplace=True)' or df[col] = df[col].method(value) instead, to perform the operation inplace on the original object.\n",
      "\n",
      "\n",
      "<positron-console-cell-9>:16: FutureWarning: A value is trying to be set on a copy of a DataFrame or Series through chained assignment using an inplace method.\n",
      "The behavior will change in pandas 3.0. This inplace method will never work because the intermediate object on which we are setting values always behaves as a copy.\n",
      "\n",
      "For example, when doing 'df[col].method(value, inplace=True)', try using 'df.method({col: value}, inplace=True)' or df[col] = df[col].method(value) instead, to perform the operation inplace on the original object.\n",
      "\n",
      "\n",
      "<positron-console-cell-9>:16: FutureWarning: A value is trying to be set on a copy of a DataFrame or Series through chained assignment using an inplace method.\n",
      "The behavior will change in pandas 3.0. This inplace method will never work because the intermediate object on which we are setting values always behaves as a copy.\n",
      "\n",
      "For example, when doing 'df[col].method(value, inplace=True)', try using 'df.method({col: value}, inplace=True)' or df[col] = df[col].method(value) instead, to perform the operation inplace on the original object.\n",
      "\n",
      "\n",
      "<positron-console-cell-9>:16: FutureWarning: A value is trying to be set on a copy of a DataFrame or Series through chained assignment using an inplace method.\n",
      "The behavior will change in pandas 3.0. This inplace method will never work because the intermediate object on which we are setting values always behaves as a copy.\n",
      "\n",
      "For example, when doing 'df[col].method(value, inplace=True)', try using 'df.method({col: value}, inplace=True)' or df[col] = df[col].method(value) instead, to perform the operation inplace on the original object.\n",
      "\n",
      "\n"
     ]
    }
   ],
   "source": [
    "## Preprocessing functioning\n",
    "def preprocess_data(df, numerical_features, categorical_features):\n",
    "    df = df.copy()\n",
    "    for col in numerical_features:\n",
    "        df[col] = pd.to_numeric(df[col], errors='coerce')\n",
    "        df[col].fillna(df[col].median(), inplace = True)\n",
    "\n",
    "    df['balance_per_age'] = df['balance'] / (df['age'] + 1)\n",
    "    df['duration_campaign_ratio'] = df['duration'] / (df['campaign'] +1)\n",
    "    df['pdays_binary'] = (df['pdays'] > -1).astype(int)\n",
    "\n",
    "    all_numerical = numerical_features + ['balance_per_age', 'duration_campaign_ratio', 'pdays_binary']\n",
    "    for col in all_numerical:\n",
    "        df[col] = df[col].astype(str)\n",
    "    for col in categorical_features: \n",
    "        df[col].fillna('unknown', inplace = True)\n",
    "        df[col] = df[col].astype(str)\n",
    "\n",
    "    return df\n",
    "\n",
    "train = preprocess_data(train, numerical_features, categorical_features)\n",
    "test = preprocess_data(test, numerical_features, categorical_features)\n",
    "all_features = numerical_features + categorical_features + ['balance_per_age', 'duration_campaign_ratio', 'pdays_binary']"
   ]
  },
  {
   "cell_type": "code",
   "execution_count": null,
   "id": "819654d4",
   "metadata": {},
   "outputs": [],
   "source": [
    "### Splitting the data\n",
    "from sklearn.model_selection import train_test_split\n",
    "X = train.drop(columns=target)\n",
    "y = train['y']\n",
    "X_train, X_test, y_train, y_test = train_test_split(X, y, test_size= .2, stratify=y, random_state=123)"
   ]
  },
  {
   "cell_type": "code",
   "execution_count": 14,
   "id": "3a64f540",
   "metadata": {},
   "outputs": [],
   "source": [
    "### Parameters for Catboost\n",
    "params = {\n",
    "    'iterations' : 12000, \n",
    "    'learning_rate' : .02, \n",
    "    'depth' : 4, \n",
    "    'cat_features' : all_features,  \n",
    "    'verbose' : 500, \n",
    "    'early_stopping_rounds' : 500, \n",
    "    'random_seed': 0\n",
    "}\n"
   ]
  },
  {
   "cell_type": "code",
   "execution_count": 15,
   "id": "028a1f94",
   "metadata": {},
   "outputs": [
    {
     "name": "stdout",
     "output_type": "stream",
     "text": [
      "0:\tlearn: 0.6607775\ttest: 0.6609202\tbest: 0.6609202 (0)\ttotal: 1.12s\tremaining: 3h 44m 44s\n",
      "500:\tlearn: 0.1465711\ttest: 0.1437918\tbest: 0.1437918 (500)\ttotal: 5m 24s\tremaining: 2h 4m 10s\n",
      "1000:\tlearn: 0.1428261\ttest: 0.1402648\tbest: 0.1402648 (1000)\ttotal: 12m 1s\tremaining: 2h 12m 7s\n",
      "1500:\tlearn: 0.1412096\ttest: 0.1388325\tbest: 0.1388325 (1500)\ttotal: 18m 17s\tremaining: 2h 7m 56s\n",
      "2000:\tlearn: 0.1401670\ttest: 0.1379951\tbest: 0.1379951 (2000)\ttotal: 24m 35s\tremaining: 2h 2m 51s\n",
      "2500:\tlearn: 0.1394313\ttest: 0.1374408\tbest: 0.1374404 (2499)\ttotal: 31m 37s\tremaining: 2h 8s\n",
      "3000:\tlearn: 0.1388743\ttest: 0.1370580\tbest: 0.1370580 (3000)\ttotal: 38m 4s\tremaining: 1h 54m 11s\n",
      "3500:\tlearn: 0.1383876\ttest: 0.1367465\tbest: 0.1367461 (3499)\ttotal: 44m 24s\tremaining: 1h 47m 48s\n",
      "4000:\tlearn: 0.1379853\ttest: 0.1365154\tbest: 0.1365154 (4000)\ttotal: 50m 16s\tremaining: 1h 40m 31s\n",
      "4500:\tlearn: 0.1375920\ttest: 0.1363152\tbest: 0.1363152 (4500)\ttotal: 56m 55s\tremaining: 1h 34m 49s\n",
      "5000:\tlearn: 0.1372742\ttest: 0.1361835\tbest: 0.1361835 (5000)\ttotal: 1h 4m 14s\tremaining: 1h 29m 54s\n",
      "5500:\tlearn: 0.1369570\ttest: 0.1360370\tbest: 0.1360370 (5500)\ttotal: 1h 11m 14s\tremaining: 1h 24m 9s\n",
      "6000:\tlearn: 0.1366705\ttest: 0.1359020\tbest: 0.1359018 (5999)\ttotal: 1h 17m 26s\tremaining: 1h 17m 25s\n",
      "6500:\tlearn: 0.1363839\ttest: 0.1357807\tbest: 0.1357807 (6500)\ttotal: 1h 24m 25s\tremaining: 1h 11m 24s\n",
      "7000:\tlearn: 0.1361520\ttest: 0.1356972\tbest: 0.1356972 (7000)\ttotal: 1h 30m 36s\tremaining: 1h 4m 41s\n",
      "7500:\tlearn: 0.1358914\ttest: 0.1356101\tbest: 0.1356099 (7493)\ttotal: 1h 36m 32s\tremaining: 57m 54s\n",
      "8000:\tlearn: 0.1356525\ttest: 0.1355377\tbest: 0.1355374 (7992)\ttotal: 1h 43m 22s\tremaining: 51m 40s\n",
      "8500:\tlearn: 0.1354375\ttest: 0.1354668\tbest: 0.1354668 (8500)\ttotal: 1h 50m 11s\tremaining: 45m 21s\n",
      "9000:\tlearn: 0.1352047\ttest: 0.1354062\tbest: 0.1354062 (9000)\ttotal: 1h 57m 11s\tremaining: 39m 2s\n",
      "9500:\tlearn: 0.1349998\ttest: 0.1353566\tbest: 0.1353562 (9496)\ttotal: 2h 3m 43s\tremaining: 32m 32s\n",
      "10000:\tlearn: 0.1347774\ttest: 0.1352989\tbest: 0.1352989 (10000)\ttotal: 2h 10m 34s\tremaining: 26m 6s\n",
      "10500:\tlearn: 0.1345839\ttest: 0.1352725\tbest: 0.1352721 (10494)\ttotal: 2h 17m 23s\tremaining: 19m 36s\n",
      "11000:\tlearn: 0.1343585\ttest: 0.1352288\tbest: 0.1352286 (10996)\ttotal: 2h 24m 44s\tremaining: 13m 8s\n",
      "11500:\tlearn: 0.1341826\ttest: 0.1351960\tbest: 0.1351960 (11500)\ttotal: 2h 32m 1s\tremaining: 6m 35s\n",
      "11999:\tlearn: 0.1340050\ttest: 0.1351639\tbest: 0.1351624 (11963)\ttotal: 2h 38m 55s\tremaining: 0us\n",
      "\n",
      "bestTest = 0.1351624037\n",
      "bestIteration = 11963\n",
      "\n",
      "Shrink model to first 11964 iterations.\n"
     ]
    },
    {
     "data": {
      "text/plain": [
       "<catboost.core.CatBoostClassifier at 0x1810bf0a060>"
      ]
     },
     "execution_count": null,
     "metadata": {},
     "output_type": "execute_result"
    }
   ],
   "source": [
    "### model fitting\n",
    "model = CatBoostClassifier(**params)\n",
    "model.fit(X_train, y_train, eval_set = (X_test, y_test))"
   ]
  },
  {
   "cell_type": "code",
   "execution_count": 24,
   "id": "7a55dcd4",
   "metadata": {},
   "outputs": [],
   "source": [
    "preds_valid = model.predict_proba(X_test)[:,1]"
   ]
  },
  {
   "cell_type": "code",
   "execution_count": 26,
   "id": "b24880ad",
   "metadata": {},
   "outputs": [
    {
     "data": {
      "text/plain": [
       "0.9720229113394596"
      ]
     },
     "execution_count": null,
     "metadata": {},
     "output_type": "execute_result"
    }
   ],
   "source": [
    "roc_auc = roc_auc_score(y_test, preds_valid)\n",
    "roc_auc"
   ]
  },
  {
   "cell_type": "code",
   "execution_count": 27,
   "id": "43ce4c0c",
   "metadata": {},
   "outputs": [],
   "source": [
    "preds = model.predict_proba(test)[:,1]"
   ]
  },
  {
   "cell_type": "code",
   "execution_count": 28,
   "id": "519f32d8",
   "metadata": {},
   "outputs": [],
   "source": [
    "submission = pd.read_csv('D:/ML/Kaggle/playground-series-s5e8/sample_submission.csv')\n",
    "submission['y'] = preds"
   ]
  },
  {
   "cell_type": "code",
   "execution_count": 30,
   "id": "ec7dc089",
   "metadata": {},
   "outputs": [
    {
     "data": {
      "text/html": [
       "<div>\n",
       "<style scoped>\n",
       "    .dataframe tbody tr th:only-of-type {\n",
       "        vertical-align: middle;\n",
       "    }\n",
       "\n",
       "    .dataframe tbody tr th {\n",
       "        vertical-align: top;\n",
       "    }\n",
       "\n",
       "    .dataframe thead th {\n",
       "        text-align: right;\n",
       "    }\n",
       "</style>\n",
       "<table border=\"1\" class=\"dataframe\">\n",
       "  <thead>\n",
       "    <tr style=\"text-align: right;\">\n",
       "      <th></th>\n",
       "      <th>id</th>\n",
       "      <th>y</th>\n",
       "    </tr>\n",
       "  </thead>\n",
       "  <tbody>\n",
       "    <tr>\n",
       "      <th>0</th>\n",
       "      <td>750000</td>\n",
       "      <td>0.005580</td>\n",
       "    </tr>\n",
       "    <tr>\n",
       "      <th>1</th>\n",
       "      <td>750001</td>\n",
       "      <td>0.093864</td>\n",
       "    </tr>\n",
       "    <tr>\n",
       "      <th>2</th>\n",
       "      <td>750002</td>\n",
       "      <td>0.000252</td>\n",
       "    </tr>\n",
       "    <tr>\n",
       "      <th>3</th>\n",
       "      <td>750003</td>\n",
       "      <td>0.000073</td>\n",
       "    </tr>\n",
       "    <tr>\n",
       "      <th>4</th>\n",
       "      <td>750004</td>\n",
       "      <td>0.030357</td>\n",
       "    </tr>\n",
       "  </tbody>\n",
       "</table>\n",
       "</div>"
      ],
      "text/plain": [
       "       id         y\n",
       "0  750000  0.005580\n",
       "1  750001  0.093864\n",
       "2  750002  0.000252\n",
       "3  750003  0.000073\n",
       "4  750004  0.030357"
      ]
     },
     "execution_count": null,
     "metadata": {},
     "output_type": "execute_result"
    }
   ],
   "source": [
    "submission.to_csv(\"submission.csv\", index=False)\n",
    "submission.head()"
   ]
  }
 ],
 "metadata": {
  "language_info": {
   "name": "python"
  }
 },
 "nbformat": 4,
 "nbformat_minor": 5
}
